{
  "cells": [
    {
      "cell_type": "code",
      "execution_count": 24,
      "metadata": {
        "id": "8q6-fOGo4JvN"
      },
      "outputs": [],
      "source": [
        "import tensorflow as tf\n",
        "from tensorflow.keras import layers, models\n",
        "from tensorflow.keras.datasets import mnist\n"
      ]
    },
    {
      "cell_type": "code",
      "execution_count": 25,
      "metadata": {
        "id": "ZjZmlLst49Fl"
      },
      "outputs": [],
      "source": [
        "(train_images, train_labels), (test_images, test_labels) = mnist.load_data()"
      ]
    },
    {
      "cell_type": "code",
      "execution_count": 26,
      "metadata": {
        "id": "tLIBmeMx5Aec"
      },
      "outputs": [],
      "source": [
        "train_images = train_images.reshape((60000, 28, 28, 1)).astype('float32') / 255\n",
        "test_images = test_images.reshape((10000, 28, 28, 1)).astype('float32') / 255\n",
        "train_labels = tf.keras.utils.to_categorical(train_labels)\n",
        "test_labels = tf.keras.utils.to_categorical(test_labels)"
      ]
    },
    {
      "cell_type": "code",
      "execution_count": 27,
      "metadata": {
        "id": "O7J-DELA5Dp5"
      },
      "outputs": [],
      "source": [
        "model = models.Sequential([\n",
        "    layers.Conv2D(32, (3, 3), activation='relu', input_shape=(28, 28, 1)),\n",
        "    layers.MaxPooling2D((2, 2)),\n",
        "    layers.Conv2D(64, (3, 3), activation='relu'),\n",
        "    layers.MaxPooling2D((2, 2)),\n",
        "    layers.Conv2D(64, (3, 3), activation='relu'),\n",
        "    layers.Flatten(),\n",
        "    layers.Dense(64, activation='relu'),\n",
        "    layers.Dense(10, activation='softmax')\n",
        "])"
      ]
    },
    {
      "cell_type": "code",
      "execution_count": 30,
      "metadata": {
        "colab": {
          "base_uri": "https://localhost:8080/"
        },
        "id": "o4M_0XVP5Hhn",
        "outputId": "2a4282de-a2e4-4dc9-e6f7-a9f1f575dd19"
      },
      "outputs": [
        {
          "output_type": "stream",
          "name": "stdout",
          "text": [
            "Epoch 1/4\n",
            "938/938 [==============================] - 7s 5ms/step - loss: 3.6756e-10 - accuracy: 1.0000 - val_loss: 0.0939 - val_accuracy: 0.9935\n",
            "Epoch 2/4\n",
            "938/938 [==============================] - 5s 5ms/step - loss: 1.7285e-10 - accuracy: 1.0000 - val_loss: 0.0959 - val_accuracy: 0.9935\n",
            "Epoch 3/4\n",
            "938/938 [==============================] - 5s 5ms/step - loss: 9.1394e-11 - accuracy: 1.0000 - val_loss: 0.0966 - val_accuracy: 0.9935\n",
            "Epoch 4/4\n",
            "938/938 [==============================] - 5s 6ms/step - loss: 5.9605e-11 - accuracy: 1.0000 - val_loss: 0.0969 - val_accuracy: 0.9937\n"
          ]
        }
      ],
      "source": [
        "model.compile(optimizer='adam',\n",
        "              loss='categorical_crossentropy',\n",
        "              metrics=['accuracy'])\n",
        "history = model.fit(train_images, train_labels, epochs=4, batch_size=64, validation_data=(test_images, test_labels))"
      ]
    },
    {
      "cell_type": "code",
      "execution_count": 11,
      "metadata": {
        "id": "bUJ-GBd_5RYq",
        "colab": {
          "base_uri": "https://localhost:8080/"
        },
        "outputId": "6d7a7a3f-3921-4f77-c03d-31f695e57dab"
      },
      "outputs": [
        {
          "output_type": "stream",
          "name": "stdout",
          "text": [
            "313/313 [==============================] - 1s 3ms/step - loss: 0.0303 - accuracy: 0.9896\n",
            "Test accuracy: 0.9896000027656555\n"
          ]
        }
      ],
      "source": [
        "test_loss, test_acc = model.evaluate(test_images, test_labels)\n",
        "print('Test accuracy:', test_acc)"
      ]
    },
    {
      "cell_type": "code",
      "execution_count": 18,
      "metadata": {
        "id": "s_9BYwRw5UIV"
      },
      "outputs": [],
      "source": [
        "model.save('mnist_cnn_model.h5')\n",
        "loaded_model = tf.keras.models.load_model('mnist_cnn_model.h5')"
      ]
    }
  ],
  "metadata": {
    "colab": {
      "provenance": [],
      "gpuType": "T4"
    },
    "kernelspec": {
      "display_name": "Python 3",
      "name": "python3"
    },
    "language_info": {
      "name": "python"
    },
    "accelerator": "GPU"
  },
  "nbformat": 4,
  "nbformat_minor": 0
}