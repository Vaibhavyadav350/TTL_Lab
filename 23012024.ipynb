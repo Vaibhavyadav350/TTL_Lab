{
 "cells": [
  {
   "cell_type": "markdown",
   "metadata": {},
   "source": [
    "## User Defined Function"
   ]
  },
  {
   "cell_type": "code",
   "execution_count": 1,
   "metadata": {},
   "outputs": [
    {
     "name": "stdout",
     "output_type": "stream",
     "text": [
      "Vaibhav\n"
     ]
    }
   ],
   "source": [
    "def function():\n",
    "    print(\"Vaibhav\")\n",
    "function()"
   ]
  },
  {
   "cell_type": "code",
   "execution_count": 2,
   "metadata": {},
   "outputs": [
    {
     "name": "stdout",
     "output_type": "stream",
     "text": [
      "Even\n",
      "Odd\n"
     ]
    }
   ],
   "source": [
    "def evenodd(c):\n",
    "    if(c % 2 == 0):\n",
    "        print(\"Even\")\n",
    "    else:\n",
    "        print(\"Odd\")\n",
    "evenodd(10)\n",
    "evenodd(9)"
   ]
  },
  {
   "cell_type": "code",
   "execution_count": 9,
   "metadata": {},
   "outputs": [
    {
     "name": "stdout",
     "output_type": "stream",
     "text": [
      "c 10\n",
      "d 9\n",
      "c 9\n",
      "d 18\n"
     ]
    }
   ],
   "source": [
    "def fun(c,d=9):\n",
    "    print(\"c\", c)\n",
    "    print(\"d\", d)\n",
    "\n",
    "fun(10)\n",
    "fun(9,18)"
   ]
  },
  {
   "cell_type": "code",
   "execution_count": 14,
   "metadata": {},
   "outputs": [
    {
     "name": "stdout",
     "output_type": "stream",
     "text": [
      "Add 5\n",
      "Bool False\n"
     ]
    }
   ],
   "source": [
    "def add(a,b):\n",
    "    return a+b\n",
    "def isTrue(a):\n",
    "    return bool(a)\n",
    "res = add(2,3)\n",
    "print(\"Add {}\".format(res))\n",
    "res = isTrue(2>3)\n",
    "print(\"Bool {}\".format(res))"
   ]
  },
  {
   "cell_type": "code",
   "execution_count": 17,
   "metadata": {},
   "outputs": [
    {
     "name": "stdout",
     "output_type": "stream",
     "text": [
      "Add 27\n",
      "Subtract 7\n",
      "Multiply 170\n",
      "Division 1.7\n"
     ]
    }
   ],
   "source": [
    "def add(a,b):\n",
    "    return a+b\n",
    "def sub(a,b):\n",
    "    return a-b\n",
    "def mul(a,b):\n",
    "    return a*b\n",
    "def div(a,b):\n",
    "    return a/b\n",
    "a = int(input(\"a = \"))\n",
    "b = int(input(\"b = \"))\n",
    "res = add(a,b)\n",
    "print(\"Add {}\".format(res))\n",
    "res = sub(a,b)\n",
    "print(\"Subtract {}\".format(res))\n",
    "res = mul(a,b)\n",
    "print(\"Multiply {}\".format(res))\n",
    "res = div(a,b)\n",
    "print(\"Division {}\".format(res))"
   ]
  },
  {
   "cell_type": "code",
   "execution_count": 59,
   "metadata": {},
   "outputs": [
    {
     "name": "stdout",
     "output_type": "stream",
     "text": [
      "Inside Function [12, 20, 30, 40, 50]\n",
      "Outside Function: [12, 20, 30, 40, 50]\n"
     ]
    }
   ],
   "source": [
    "def test(hilist):\n",
    "    hilist.append(50)\n",
    "    print(\"Inside Function\",hilist)\n",
    "mylist = [12,20,30,40]\n",
    "test(mylist)\n",
    "print(\"Outside Function:\",mylist)"
   ]
  },
  {
   "cell_type": "code",
   "execution_count": 29,
   "metadata": {},
   "outputs": [
    {
     "name": "stdout",
     "output_type": "stream",
     "text": [
      "Inside Function [12, 20, 30, 40, 50]\n",
      "Outside Function: [12, 20, 30, 40]\n"
     ]
    }
   ],
   "source": [
    "mylist = [12,20,30,40]\n",
    "def test(mylist):\n",
    "    mylist = [12,20,30,40]\n",
    "    mylist.append(50)\n",
    "    print(\"Inside Function\",mylist)\n",
    "test(mylist)\n",
    "print(\"Outside Function:\",mylist)"
   ]
  },
  {
   "cell_type": "code",
   "execution_count": 31,
   "metadata": {},
   "outputs": [
    {
     "name": "stdout",
     "output_type": "stream",
     "text": [
      "Inside function: 70\n",
      "Outside function: 70\n",
      "Inside function: 50\n",
      "Outside function: 70\n"
     ]
    }
   ],
   "source": [
    "#call by reference\n",
    "def add(a,b):\n",
    "    print(\"Inside function:\",a+b)\n",
    "a=30\n",
    "b=40\n",
    "add(a,b)\n",
    "print(\"Outside function:\",a+b)\n",
    "#call by value\n",
    "def add(a,b):\n",
    "    a=20\n",
    "    b=30\n",
    "    print(\"Inside function:\",a+b)\n",
    "a=30\n",
    "b=40\n",
    "add(a,b)\n",
    "print(\"Outside function:\",a+b)"
   ]
  },
  {
   "cell_type": "code",
   "execution_count": 36,
   "metadata": {},
   "outputs": [
    {
     "name": "stdout",
     "output_type": "stream",
     "text": [
      "Call By Value\n",
      "Add 15\n",
      "Subtract -1\n",
      "Multiply 56\n",
      "Division 0.875\n"
     ]
    }
   ],
   "source": [
    "def add(a,b):\n",
    "    a = 7\n",
    "    b = 8\n",
    "    return a+b\n",
    "def sub(a,b):\n",
    "    a = 7\n",
    "    b = 8\n",
    "    return a-b\n",
    "def mul(a,b):\n",
    "    a = 7\n",
    "    b = 8\n",
    "    return a*b\n",
    "def div(a,b):\n",
    "    a = 7\n",
    "    b = 8\n",
    "    return a/b\n",
    "a = 10\n",
    "b = 20\n",
    "res = add(a,b)\n",
    "print(\"Call By Value\")\n",
    "print(\"Add {}\".format(res))\n",
    "res = sub(a,b)\n",
    "print(\"Subtract {}\".format(res))\n",
    "res = mul(a,b)\n",
    "print(\"Multiply {}\".format(res))\n",
    "res = div(a,b)\n",
    "print(\"Division {}\".format(res))"
   ]
  },
  {
   "cell_type": "code",
   "execution_count": 37,
   "metadata": {},
   "outputs": [
    {
     "name": "stdout",
     "output_type": "stream",
     "text": [
      "Call By Reference\n",
      "Add 77\n",
      "Subtract 63\n",
      "Multiply 490\n",
      "Division 10.0\n"
     ]
    }
   ],
   "source": [
    "def add(a,b):\n",
    "    return a+b\n",
    "def sub(a,b):\n",
    "    return a-b\n",
    "def mul(a,b):\n",
    "    return a*b\n",
    "def div(a,b):\n",
    "    return a/b\n",
    "a = int(input(\"a = \"))\n",
    "b = int(input(\"b = \"))\n",
    "print(\"Call By Reference\")\n",
    "res = add(a,b)\n",
    "print(\"Add {}\".format(res))\n",
    "res = sub(a,b)\n",
    "print(\"Subtract {}\".format(res))\n",
    "res = mul(a,b)\n",
    "print(\"Multiply {}\".format(res))\n",
    "res = div(a,b)\n",
    "print(\"Division {}\".format(res))"
   ]
  },
  {
   "cell_type": "markdown",
   "metadata": {},
   "source": [
    "## Lambda Function"
   ]
  },
  {
   "cell_type": "code",
   "execution_count": 64,
   "metadata": {},
   "outputs": [
    {
     "name": "stdout",
     "output_type": "stream",
     "text": [
      "Add 50\n",
      "Sub -10\n",
      "Mul 600\n",
      "Div 0.6666666666666666\n",
      "[50, -10, 600, 0.6666666666666666]\n"
     ]
    }
   ],
   "source": [
    "add = lambda a,b:a+b\n",
    "sub = lambda a,b:a-b\n",
    "mul = lambda a,b:a*b\n",
    "div = lambda a,b:a/b\n",
    "mylist = [add(20,30),sub(20,30),mul(20,30),div(20,30)]\n",
    "print(\"Add\",add(20,30))\n",
    "print(\"Sub\",sub(20,30))\n",
    "print(\"Mul\",mul(20,30))\n",
    "print(\"Div\",div(20,30))\n",
    "print(mylist)\n"
   ]
  },
  {
   "cell_type": "markdown",
   "metadata": {},
   "source": [
    "## List"
   ]
  },
  {
   "cell_type": "code",
   "execution_count": 18,
   "metadata": {},
   "outputs": [
    {
     "name": "stdout",
     "output_type": "stream",
     "text": [
      "[10, 20, 5, 7, 8]\n",
      "[20, 30, 40, 60, 90, 15, 17, 18]\n",
      "[5, 7, 8, 10, 20, 30, 50, 80]\n",
      "After Append [10, 20, 30, 50, 80, 5, 7, 8, 89]\n",
      "Deleted Elemnet 89\n",
      "After deletion [10, 20, 30, 50, 80, 5, 7, 8]\n",
      "Deleted Elemnet 5\n",
      "After deletion [10, 20, 30, 50, 80, 7, 8]\n"
     ]
    }
   ],
   "source": [
    "newlist = [10,20,30,50,80,5,7,8]\n",
    "\n",
    "result = list(filter(lambda x: (x<30), newlist)) \n",
    "print(result)\n",
    "\n",
    "resultmap = list(map(lambda y: y+10,newlist))\n",
    "print(resultmap)\n",
    "\n",
    "resultsort = list(sorted(newlist))\n",
    "print(resultsort)\n",
    "\n",
    "resultadd = newlist.append(89)\n",
    "print(\"After Append\",newlist)\n",
    "resultdelete = newlist.pop()\n",
    "print(\"Deleted Elemnet\",resultdelete)\n",
    "print(\"After deletion\",newlist)\n",
    "resultdeleteindex = newlist.pop(5)\n",
    "print(\"Deleted Elemnet\",resultdeleteindex)\n",
    "print(\"After deletion\",newlist)\n",
    "\n"
   ]
  },
  {
   "cell_type": "markdown",
   "metadata": {},
   "source": [
    "## Tuple"
   ]
  },
  {
   "cell_type": "code",
   "execution_count": 16,
   "metadata": {},
   "outputs": [
    {
     "name": "stdout",
     "output_type": "stream",
     "text": [
      "('shrey', 'anirudh', 'wudali', 'anshuman', 'aniket')\n",
      "length 5\n",
      "<class 'tuple'>\n",
      "shrey\n",
      "aniket\n",
      "(2, 3, 4, 7, 8, 9)\n",
      "('wudali', 'anshuman', 'aniket')\n",
      "{True, 2, 'banana', 'apple', 'cherry'}\n",
      "{'KIIT'}\n",
      "{'Adobe', 'Microsoft', 'Google'}\n"
     ]
    }
   ],
   "source": [
    "friends = (\"shrey\", \"anirudh\", \"wudali\", \"anshuman\",\"aniket\")\n",
    "s = (2,3,4)\n",
    "t = (7,8,9)\n",
    "print(friends)\n",
    "print(\"length\",len(friends))\n",
    "print(type(friends))\n",
    "print(friends[0])\n",
    "print(friends[-1])\n",
    "print(s+t)\n",
    "print(friends[2:5])\n",
    "\n"
   ]
  },
  {
   "cell_type": "markdown",
   "metadata": {},
   "source": [
    "## Set"
   ]
  },
  {
   "cell_type": "code",
   "execution_count": 29,
   "metadata": {},
   "outputs": [
    {
     "name": "stdout",
     "output_type": "stream",
     "text": [
      "{True, 2, 'banana', 'apple', 'cherry'}\n",
      "{'KIIT'}\n",
      "{'Adobe', 'Microsoft', 'Google'}\n"
     ]
    }
   ],
   "source": [
    "thiset = {\"apple\",\"banana\",\"cherry\",True, 1,2}\n",
    "print(thiset)\n",
    "product = {\"Google\",\"Microsoft\",\"Adobe\",\"KIIT\"}\n",
    "service = {\"TCS\", \"Wipro\",\"KIIT\"}\n",
    "company = product.intersection(service)\n",
    "print(company)\n",
    "company = product.difference(service)\n",
    "print(company)"
   ]
  },
  {
   "cell_type": "markdown",
   "metadata": {},
   "source": [
    "## Dictionary"
   ]
  },
  {
   "cell_type": "code",
   "execution_count": 24,
   "metadata": {},
   "outputs": [
    {
     "name": "stdout",
     "output_type": "stream",
     "text": [
      "{'company': 'Lenovo', 'ram(bg)': 16, 'graphics': 'integrated'}\n",
      "integrated\n",
      "{'company': 'Lenovo', 'ram(bg)': 16, 'graphics': 'integrated', 'processor': 'Ryzen', 'VRAM(gb)': 500}\n"
     ]
    }
   ],
   "source": [
    "thisdic = {\n",
    "    \"company\":\"Lenovo\",\n",
    "    \"ram(bg)\": 16,\n",
    "    \"graphics\":\"integrated\"\n",
    "\n",
    "}\n",
    "print(thisdic)\n",
    "print(thisdic[\"graphics\"])\n",
    "specs={\n",
    "    \"processor\":\"Ryzen\",\n",
    "    \"VRAM(gb)\":500\n",
    "}\n",
    "thisdic.update(specs)\n",
    "# newlap = thisdic+specs\n",
    "print(thisdic)"
   ]
  },
  {
   "cell_type": "markdown",
   "metadata": {},
   "source": [
    "## Class"
   ]
  },
  {
   "cell_type": "code",
   "execution_count": 28,
   "metadata": {},
   "outputs": [
    {
     "name": "stdout",
     "output_type": "stream",
     "text": [
      "Vaibhav Yadav\n"
     ]
    }
   ],
   "source": [
    "class Person:\n",
    "    def __init__(self,fname,lname) -> None:\n",
    "        self.fname = fname\n",
    "        self.lname = lname\n",
    "    \n",
    "    def PrintName(self):\n",
    "        print(self.fname+\" \"+self.lname)\n",
    "\n",
    "x = Person(\"Vaibhav\",\"Yadav\")\n",
    "x.PrintName()\n",
    "        "
   ]
  },
  {
   "cell_type": "code",
   "execution_count": null,
   "metadata": {},
   "outputs": [],
   "source": []
  }
 ],
 "metadata": {
  "kernelspec": {
   "display_name": "base",
   "language": "python",
   "name": "python3"
  },
  "language_info": {
   "codemirror_mode": {
    "name": "ipython",
    "version": 3
   },
   "file_extension": ".py",
   "mimetype": "text/x-python",
   "name": "python",
   "nbconvert_exporter": "python",
   "pygments_lexer": "ipython3",
   "version": "0.0.0"
  }
 },
 "nbformat": 4,
 "nbformat_minor": 2
}
