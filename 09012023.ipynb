{
 "cells": [
  {
   "cell_type": "markdown",
   "metadata": {},
   "source": [
    "## Declare variables with meaningful identifiers, assign values, and explore constants and literals."
   ]
  },
  {
   "cell_type": "code",
   "execution_count": 1,
   "metadata": {},
   "outputs": [
    {
     "name": "stdout",
     "output_type": "stream",
     "text": [
      "Current age : 21\n",
      "After five years, your age will be 26\n"
     ]
    }
   ],
   "source": [
    "age = int(input(\"Enter the age :: \"))\n",
    "print(\"Current age :\", age)\n",
    "print(\"After five years, your age will be\",age+5)"
   ]
  },
  {
   "cell_type": "code",
   "execution_count": 2,
   "metadata": {},
   "outputs": [
    {
     "name": "stdout",
     "output_type": "stream",
     "text": [
      "The sum is 30\n"
     ]
    }
   ],
   "source": [
    "a,b = 10,20\n",
    "c,d = 10,\"20\"\n",
    "\n",
    "sum = a + b\n",
    "sum2 = str(c) + d\n",
    "\n",
    "print(\"The sum is\", a+b)\n"
   ]
  },
  {
   "cell_type": "markdown",
   "metadata": {},
   "source": [
    "## Write a python program to find the area of a triangle where a{5}, b{7}, c{9}"
   ]
  },
  {
   "cell_type": "code",
   "execution_count": 3,
   "metadata": {},
   "outputs": [
    {
     "name": "stdout",
     "output_type": "stream",
     "text": [
      "The area of triangle is 17.41228014936585\n"
     ]
    }
   ],
   "source": [
    "\n",
    "a,b,c = 5,7,9\n",
    "s = (a+b+c)/2\n",
    "area = (s*(s-a)*(s-b)*(s-c))\n",
    "area = area**0.5\n",
    "print(\"The area of triangle is\", area)"
   ]
  },
  {
   "cell_type": "code",
   "execution_count": 4,
   "metadata": {},
   "outputs": [
    {
     "name": "stdout",
     "output_type": "stream",
     "text": [
      "2.6\n",
      "p&q: False\n",
      "False True True\n"
     ]
    }
   ],
   "source": [
    "a, b = 13,5\n",
    "c = a/b\n",
    "print(c)\n",
    "\n",
    "\n",
    "## another one...\n",
    "\n",
    "a,b,c,d = 21, 13, 40, 37\n",
    "p = (a+b) >= (c-d)\n",
    "p\n",
    "p = 10==9\n",
    "q = 7 > 5\n",
    "print(\"p&q:\",p&q)\n",
    "r = p&q\n",
    "s = p|q\n",
    "t = not p\n",
    "print(r,s,t)"
   ]
  },
  {
   "cell_type": "code",
   "execution_count": 5,
   "metadata": {},
   "outputs": [
    {
     "data": {
      "text/plain": [
       "68"
      ]
     },
     "execution_count": 5,
     "metadata": {},
     "output_type": "execute_result"
    }
   ],
   "source": [
    "a,b,c = 16,12,(a+b)<<1\n",
    "c"
   ]
  },
  {
   "cell_type": "code",
   "execution_count": null,
   "metadata": {},
   "outputs": [],
   "source": []
  }
 ],
 "metadata": {
  "kernelspec": {
   "display_name": "base",
   "language": "python",
   "name": "python3"
  },
  "language_info": {
   "codemirror_mode": {
    "name": "ipython",
    "version": 3
   },
   "file_extension": ".py",
   "mimetype": "text/x-python",
   "name": "python",
   "nbconvert_exporter": "python",
   "pygments_lexer": "ipython3",
   "version": "3.11.5"
  }
 },
 "nbformat": 4,
 "nbformat_minor": 2
}
