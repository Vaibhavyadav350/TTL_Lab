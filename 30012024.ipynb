{
 "cells": [
  {
   "cell_type": "markdown",
   "metadata": {},
   "source": [
    "## List"
   ]
  },
  {
   "cell_type": "code",
   "execution_count": 3,
   "metadata": {},
   "outputs": [
    {
     "name": "stdout",
     "output_type": "stream",
     "text": [
      "After Append [10, 20, 30, 50, 80, 5, 7, 8, 89]\n",
      "Deleted Elemnet 89\n",
      "After deletion [10, 20, 30, 50, 80, 5, 7, 8]\n",
      "Deleted Elemnet 5\n",
      "After deletion [10, 20, 30, 50, 80, 7, 8]\n"
     ]
    }
   ],
   "source": [
    "newlist = [10,20,30,50,80,5,7,8]\n",
    "resultadd = newlist.append(89)\n",
    "print(\"After Append\",newlist)\n",
    "resultdelete = newlist.pop()\n",
    "print(\"Deleted Elemnet\",resultdelete)\n",
    "print(\"After deletion\",newlist)\n",
    "resultdeleteindex = newlist.pop(5)\n",
    "print(\"Deleted Elemnet\",resultdeleteindex)\n",
    "print(\"After deletion\",newlist)\n"
   ]
  },
  {
   "cell_type": "markdown",
   "metadata": {},
   "source": [
    "## Tuple"
   ]
  },
  {
   "cell_type": "code",
   "execution_count": 53,
   "metadata": {},
   "outputs": [
    {
     "name": "stdout",
     "output_type": "stream",
     "text": [
      "('shrey', 'anirudh', 'wudali', 'anshuman', 'aniket')\n",
      "length 5\n",
      "<class 'tuple'>\n",
      "shrey\n",
      "aniket\n",
      "(2, 3, 4, 7, 8, 9)\n",
      "('wudali', 'anshuman', 'aniket')\n",
      "['vaih', 'hello', 'jbh']\n"
     ]
    }
   ],
   "source": [
    "friends = (\"shrey\", \"anirudh\", \"wudali\", \"anshuman\",\"aniket\")\n",
    "s = (2,3,4)\n",
    "t = (7,8,9)\n",
    "print(friends)\n",
    "print(\"length\",len(friends))\n",
    "print(type(friends))\n",
    "print(friends[0])\n",
    "print(friends[-1])\n",
    "print(s+t)\n",
    "print(friends[2:5])\n",
    "\n",
    "listal = [\"vaih\",\"jbh\",]\n",
    "listal.insert(1,\"hello\")\n",
    "print(listal)"
   ]
  },
  {
   "cell_type": "markdown",
   "metadata": {},
   "source": [
    "## Set"
   ]
  },
  {
   "cell_type": "code",
   "execution_count": 9,
   "metadata": {},
   "outputs": [
    {
     "name": "stdout",
     "output_type": "stream",
     "text": [
      "{True, 2, 'apple', 'banana', 'cherry'}\n",
      "{'KIIT'}\n",
      "{'Microsoft', 'Adobe', 'Google'}\n",
      "{'Microsoft', 'Adobe', 'KIIT', 'Wipro', 'TCS', 'Google'}\n"
     ]
    }
   ],
   "source": [
    "\n",
    "thiset = {\"apple\",\"banana\",\"cherry\",True, 1,2}\n",
    "print(thiset)\n",
    "product = {\"Google\",\"Microsoft\",\"Adobe\",\"KIIT\"}\n",
    "service = {\"TCS\", \"Wipro\",\"KIIT\"}\n",
    "company = product.intersection(service)\n",
    "print(company)\n",
    "company = product.difference(service)\n",
    "print(company)\n",
    "company = product.union(service)\n",
    "print(company)"
   ]
  },
  {
   "cell_type": "markdown",
   "metadata": {},
   "source": [
    "## Dictionary"
   ]
  },
  {
   "cell_type": "code",
   "execution_count": 12,
   "metadata": {},
   "outputs": [
    {
     "name": "stdout",
     "output_type": "stream",
     "text": [
      "{'company': 'Lenovo', 'ram(bg)': 16, 'graphics': 'integrated'}\n",
      "integrated\n",
      "{'company': 'Lenovo', 'ram(bg)': 16, 'graphics': 'integrated', 'Port': 'HDMI', 'processor': 'Ryzen', 'VRAM(gb)': 500}\n"
     ]
    }
   ],
   "source": [
    "thisdic = {\n",
    "    \"company\":\"Lenovo\",\n",
    "    \"ram(bg)\": 16,\n",
    "    \"graphics\":\"integrated\"\n",
    "\n",
    "}\n",
    "print(thisdic)\n",
    "print(thisdic[\"graphics\"])\n",
    "specs={\n",
    "    \"processor\":\"Ryzen\",\n",
    "    \"VRAM(gb)\":500\n",
    "}\n",
    "thisdic[\"Port\"]=\"HDMI\"\n",
    "thisdic.update(specs)\n",
    "print(thisdic)"
   ]
  },
  {
   "cell_type": "markdown",
   "metadata": {},
   "source": [
    "## Class"
   ]
  },
  {
   "cell_type": "code",
   "execution_count": 22,
   "metadata": {},
   "outputs": [
    {
     "name": "stdout",
     "output_type": "stream",
     "text": [
      "Vaibhav Yadav\n"
     ]
    }
   ],
   "source": [
    "class Person:\n",
    "    def __init__(self,fname,lname) -> None:\n",
    "        self.fname = fname\n",
    "        self.lname = lname\n",
    "    \n",
    "    def PrintName(self):\n",
    "        print(self.fname+\" \"+self.lname)\n",
    "\n",
    "x = Person(\"Vaibhav\",\"Yadav\")\n",
    "x.PrintName()\n",
    "        "
   ]
  },
  {
   "cell_type": "code",
   "execution_count": 54,
   "metadata": {},
   "outputs": [
    {
     "name": "stdout",
     "output_type": "stream",
     "text": [
      "Make: German\n",
      "Modal: Fords\n",
      "Year: 1970\n",
      "------------------------------------\n",
      "Make: German\n",
      "Modal: Fords\n",
      "Year: 1970\n",
      "Doors: 2\n",
      "Fuel: petrol\n"
     ]
    }
   ],
   "source": [
    "class Vehicle:\n",
    "    def __init__(self,make,modal,year) -> None:\n",
    "        self.make = make\n",
    "        self.modal = modal\n",
    "        self.year = year\n",
    "    # def __str__(self):\n",
    "    #     return \"({0},{1})\".format(self.make, self.modal)\n",
    "    \n",
    "    def PrintVehicle(self):\n",
    "        print(\"Make: \"+self.make+\"\\nModal: \"+self.modal+\"\\nYear: \"+self.year)\n",
    "\n",
    "\n",
    "class Car(Vehicle):\n",
    "    def __init__(self, make, modal, year,num_door,fuel_type) -> None:\n",
    "        super().__init__(make, modal, year)\n",
    "        self.fuel_type = fuel_type\n",
    "        self.num_door = num_door\n",
    "    def Welcome(self):\n",
    "        print(\"Make: \"+self.make+\"\\nModal: \"+self.modal+\"\\nYear: \"+self.year+\"\\nDoors: \"+self.num_door+\"\\nFuel: \"+self.fuel_type)\n",
    "\n",
    "x = Vehicle(\"German\",\"Fords\",\"1970\")\n",
    "x.PrintVehicle()\n",
    "print(\"------------------------------------\")\n",
    "\n",
    "y = Car(\"German\",\"Fords\",\"1970\",\"2\",\"petrol\")\n",
    "y.Welcome()"
   ]
  },
  {
   "cell_type": "code",
   "execution_count": null,
   "metadata": {},
   "outputs": [],
   "source": []
  }
 ],
 "metadata": {
  "kernelspec": {
   "display_name": "base",
   "language": "python",
   "name": "python3"
  },
  "language_info": {
   "codemirror_mode": {
    "name": "ipython",
    "version": 3
   },
   "file_extension": ".py",
   "mimetype": "text/x-python",
   "name": "python",
   "nbconvert_exporter": "python",
   "pygments_lexer": "ipython3",
   "version": "3.11.5"
  }
 },
 "nbformat": 4,
 "nbformat_minor": 2
}
