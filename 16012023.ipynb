{
 "cells": [
  {
   "cell_type": "markdown",
   "metadata": {},
   "source": [
    "# FlowControl"
   ]
  },
  {
   "cell_type": "code",
   "execution_count": 3,
   "metadata": {},
   "outputs": [
    {
     "name": "stdout",
     "output_type": "stream",
     "text": [
      "Vaibhav Yadav\n"
     ]
    }
   ],
   "source": [
    "def vaibhav():\n",
    "    print(\"Vaibhav Yadav\")\n",
    "vaibhav()\n"
   ]
  },
  {
   "cell_type": "code",
   "execution_count": 10,
   "metadata": {},
   "outputs": [
    {
     "name": "stdout",
     "output_type": "stream",
     "text": [
      "10 is less than 15\n",
      "10 is greater than 15\n"
     ]
    }
   ],
   "source": [
    "i = 10\n",
    "num = 15\n",
    "if(i<num):\n",
    "    print(f\"10 is less than {num}\")\n",
    "print(f\"10 is greater than {num}\")"
   ]
  },
  {
   "cell_type": "markdown",
   "metadata": {},
   "source": [
    "### IFELSE"
   ]
  },
  {
   "cell_type": "code",
   "execution_count": 15,
   "metadata": {},
   "outputs": [
    {
     "name": "stdout",
     "output_type": "stream",
     "text": [
      "10 is less than 15\n"
     ]
    }
   ],
   "source": [
    "i = int(input())\n",
    "num = 15\n",
    "if(i<num):\n",
    "    print(f\"{i} is less than {num}\")\n",
    "else:\n",
    "    print(f\"{i} is greater than {num}\")"
   ]
  },
  {
   "cell_type": "code",
   "execution_count": 19,
   "metadata": {},
   "outputs": [
    {
     "name": "stdout",
     "output_type": "stream",
     "text": [
      "45 is greater than 15\n"
     ]
    }
   ],
   "source": [
    "i = int(input())\n",
    "num = 15\n",
    "if(i<num):\n",
    "    if(i<10):\n",
    "        print(f\"{i} is less than 10\")\n",
    "    if(i<14):\n",
    "        print(f\"{i} is less than 14\")\n",
    "else:\n",
    "    print(f\"{i} is greater than {num}\")"
   ]
  },
  {
   "cell_type": "markdown",
   "metadata": {},
   "source": [
    "### ELIF\n"
   ]
  },
  {
   "cell_type": "code",
   "execution_count": 28,
   "metadata": {},
   "outputs": [
    {
     "name": "stdout",
     "output_type": "stream",
     "text": [
      "16 is not equal to  15\n"
     ]
    }
   ],
   "source": [
    "i = int(input())\n",
    "num = 15\n",
    "if(i<num):\n",
    "    print(f\"{i} is less than {num}\")\n",
    "elif(i==num):\n",
    "    print(f\"{i} is equal to {num}\")\n",
    "elif(i!=10):\n",
    "    print(f\"{i} is not equal to  {num}\")\n",
    "else:\n",
    "    print(f\"{i} is greater than {num}\")"
   ]
  },
  {
   "cell_type": "markdown",
   "metadata": {},
   "source": [
    "### For Loop"
   ]
  },
  {
   "cell_type": "code",
   "execution_count": 31,
   "metadata": {},
   "outputs": [
    {
     "name": "stdout",
     "output_type": "stream",
     "text": [
      "10\n",
      "11\n",
      "12\n",
      "13\n",
      "14\n"
     ]
    }
   ],
   "source": [
    "for i in range(10,15):\n",
    "    print(i)"
   ]
  },
  {
   "cell_type": "code",
   "execution_count": 50,
   "metadata": {},
   "outputs": [
    {
     "name": "stdout",
     "output_type": "stream",
     "text": [
      "0 0\n",
      "0 1\n",
      "0 2\n",
      "0 3\n",
      "0 4\n",
      "0 5\n",
      "1 0\n",
      "1 1\n",
      "1 2\n",
      "1 3\n",
      "1 4\n",
      "1 5\n"
     ]
    }
   ],
   "source": [
    "for i in range(0,2):\n",
    "    for j in range(0,6):\n",
    "        print(i,j)"
   ]
  },
  {
   "cell_type": "markdown",
   "metadata": {},
   "source": [
    "### Loop in String "
   ]
  },
  {
   "cell_type": "code",
   "execution_count": 48,
   "metadata": {},
   "outputs": [
    {
     "name": "stdout",
     "output_type": "stream",
     "text": [
      "Current Letter: S\n"
     ]
    }
   ],
   "source": [
    "for letter in 'Students':\n",
    "    if letter == 'e' or letter == 'S':\n",
    "        break\n",
    "print(\"Current Letter:\",letter)"
   ]
  },
  {
   "cell_type": "code",
   "execution_count": 58,
   "metadata": {},
   "outputs": [
    {
     "name": "stdout",
     "output_type": "stream",
     "text": [
      "\n",
      " Sum of First 10 numbers 55\n"
     ]
    }
   ],
   "source": [
    "sum = 0 \n",
    "for i in range(1,11):\n",
    "    sum=sum+i\n",
    "print(\"\\n Sum of First 10 numbers\",sum)"
   ]
  },
  {
   "cell_type": "markdown",
   "metadata": {},
   "source": [
    "### String Iteration"
   ]
  },
  {
   "cell_type": "code",
   "execution_count": 78,
   "metadata": {},
   "outputs": [
    {
     "name": "stdout",
     "output_type": "stream",
     "text": [
      "String Iteration \n",
      "\n",
      "V\n",
      "a\n",
      "i\n",
      "b\n",
      "h\n",
      "a\n",
      "v\n",
      "Y\n",
      "a\n",
      "d\n",
      "a\n",
      "v\n"
     ]
    }
   ],
   "source": [
    "print(\"String Iteration \\n\")\n",
    "s = \"Vaibhav Yadav\"\n",
    "for i in s:\n",
    "    if(i == \" \"): continue\n",
    "    print(i)"
   ]
  },
  {
   "cell_type": "code",
   "execution_count": 76,
   "metadata": {},
   "outputs": [
    {
     "name": "stdout",
     "output_type": "stream",
     "text": [
      "1\n",
      "2\n",
      "3\n",
      "4\n",
      "No Break\n",
      "1\n"
     ]
    }
   ],
   "source": [
    "i = 0\n",
    "while i <4:\n",
    "    i += 1\n",
    "    print(i)\n",
    "else: \n",
    "    print(\"No Break \\n\")\n",
    "i = 0 \n",
    "while i < 4:\n",
    "    i+= 1\n",
    "    print(i)\n",
    "    break\n",
    "else:\n",
    "    print(\"No Break\")"
   ]
  },
  {
   "cell_type": "markdown",
   "metadata": {},
   "source": [
    "# Guessing Game"
   ]
  },
  {
   "cell_type": "code",
   "execution_count": 2,
   "metadata": {},
   "outputs": [
    {
     "name": "stdout",
     "output_type": "stream",
     "text": [
      "11\n",
      "Go Lower\n",
      "You Won\n",
      "2\n"
     ]
    }
   ],
   "source": [
    "import random \n",
    "r1 = 1\n",
    "r2 = 100\n",
    "num = -1\n",
    "randomnumber = random.randint(r1,r2)\n",
    "print(randomnumber)\n",
    "count= 0\n",
    "while(randomnumber != num):\n",
    "    num = int(input(\"I guess the number \"))\n",
    "    if(num > randomnumber):\n",
    "        print(\"Go Lower\")\n",
    "    elif(num<randomnumber):\n",
    "        print(\"Go Higher\")\n",
    "    count = count+1\n",
    "print(\"You Won\")\n",
    "print(count)"
   ]
  },
  {
   "cell_type": "code",
   "execution_count": 4,
   "metadata": {},
   "outputs": [
    {
     "name": "stdout",
     "output_type": "stream",
     "text": [
      "[10, 20]\n"
     ]
    }
   ],
   "source": [
    "\n",
    "newlist = [10,20,30,50,80]\n",
    "\n",
    "result = list(filter(lambda x: (x<30), newlist)) \n",
    "print(result)\n",
    "\n"
   ]
  }
 ],
 "metadata": {
  "kernelspec": {
   "display_name": "base",
   "language": "python",
   "name": "python3"
  },
  "language_info": {
   "codemirror_mode": {
    "name": "ipython",
    "version": 3
   },
   "file_extension": ".py",
   "mimetype": "text/x-python",
   "name": "python",
   "nbconvert_exporter": "python",
   "pygments_lexer": "ipython3",
   "version": "0.0.0"
  }
 },
 "nbformat": 4,
 "nbformat_minor": 2
}
